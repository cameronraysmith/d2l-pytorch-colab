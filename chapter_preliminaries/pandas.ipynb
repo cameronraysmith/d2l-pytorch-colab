{
  "cells": [
    {
      "cell_type": "markdown",
      "metadata": {
        "id": "view-in-github",
        "colab_type": "text"
      },
      "source": [
        "<a href=\"https://colab.research.google.com/github/cameronraysmith/d2l-pytorch-colab/blob/preliminaries-pandas/chapter_preliminaries/pandas.ipynb\" target=\"_parent\"><img src=\"https://colab.research.google.com/assets/colab-badge.svg\" alt=\"Open In Colab\"/></a>"
      ]
    },
    {
      "cell_type": "markdown",
      "id": "79f4b525",
      "metadata": {
        "origin_pos": 1,
        "id": "79f4b525"
      },
      "source": [
        "# Data Preprocessing\n",
        ":label:`sec_pandas`\n",
        "\n",
        "So far, we have been working with synthetic data\n",
        "that arrived in ready-made tensors.\n",
        "However, to apply deep learning in the wild\n",
        "we must extract messy data \n",
        "stored in arbitrary formats,\n",
        "and preprocess it to suit our needs.\n",
        "Fortunately, the *pandas* [library](https://pandas.pydata.org/) \n",
        "can do much of the heavy lifting.\n",
        "This section, while no substitute \n",
        "for a proper *pandas* [tutorial](https://pandas.pydata.org/pandas-docs/stable/user_guide/10min.html),\n",
        "will give you a crash course\n",
        "on some of the most common routines.\n",
        "\n"
      ]
    },
    {
      "cell_type": "markdown",
      "source": [
        "\n",
        "## Reading the Dataset\n",
        "\n",
        "Comma-separated values (CSV) files are ubiquitous \n",
        "for storing tabular (spreadsheet-like) data.\n",
        "Here, each line corresponds to one record\n",
        "and consists of several (comma-separated) fields, e.g.,\n",
        "\"Albert Einstein,March 14 1879,Ulm,Federal polytechnic school,Accomplishments in the field of gravitational physics\".\n",
        "To demonstrate how to load CSV files with `pandas`, \n",
        "we (**create a CSV file below**) `../data/house_tiny.csv`. \n",
        "This file represents a dataset of homes,\n",
        "where each row corresponds to a distinct home\n",
        "and the columns correspond to the number of rooms (`NumRooms`),\n",
        "the roof type (`RoofType`), and the price (`Price`).\n"
      ],
      "metadata": {
        "id": "twZW6X7mLPXz"
      },
      "id": "twZW6X7mLPXz"
    },
    {
      "cell_type": "code",
      "source": [
        "import os"
      ],
      "metadata": {
        "id": "RH0Foo4DLsIO"
      },
      "id": "RH0Foo4DLsIO",
      "execution_count": 1,
      "outputs": []
    },
    {
      "cell_type": "code",
      "execution_count": 2,
      "id": "8eb2a8b2",
      "metadata": {
        "execution": {
          "iopub.execute_input": "2022-12-14T04:44:57.270739Z",
          "iopub.status.busy": "2022-12-14T04:44:57.270445Z",
          "iopub.status.idle": "2022-12-14T04:44:57.279408Z",
          "shell.execute_reply": "2022-12-14T04:44:57.278712Z"
        },
        "origin_pos": 2,
        "tab": [
          "pytorch"
        ],
        "id": "8eb2a8b2"
      },
      "outputs": [],
      "source": [
        "os.makedirs(os.path.join('..', 'data'), exist_ok=True)\n",
        "data_file = os.path.join('..', 'data', 'house_tiny.csv')"
      ]
    },
    {
      "cell_type": "code",
      "source": [
        "with open(data_file, 'w') as f:\n",
        "    f.write('''NumRooms,RoofType,Price\n",
        "NA,NA,127500\n",
        "2,NA,106000\n",
        "4,Slate,178100\n",
        "NA,NA,140000''')"
      ],
      "metadata": {
        "id": "JVmUEaeCLrKC"
      },
      "id": "JVmUEaeCLrKC",
      "execution_count": 3,
      "outputs": []
    },
    {
      "cell_type": "markdown",
      "id": "dcac80e3",
      "metadata": {
        "origin_pos": 3,
        "id": "dcac80e3"
      },
      "source": [
        "Now let's import `pandas` and load the dataset with `read_csv`.\n"
      ]
    },
    {
      "cell_type": "code",
      "execution_count": 4,
      "id": "fc826189",
      "metadata": {
        "execution": {
          "iopub.execute_input": "2022-12-14T04:44:57.282385Z",
          "iopub.status.busy": "2022-12-14T04:44:57.282132Z",
          "iopub.status.idle": "2022-12-14T04:44:57.642143Z",
          "shell.execute_reply": "2022-12-14T04:44:57.641370Z"
        },
        "origin_pos": 4,
        "tab": [
          "pytorch"
        ],
        "id": "fc826189"
      },
      "outputs": [],
      "source": [
        "import pandas as pd"
      ]
    },
    {
      "cell_type": "code",
      "source": [
        "data = pd.read_csv(data_file)\n",
        "print(data)"
      ],
      "metadata": {
        "colab": {
          "base_uri": "https://localhost:8080/"
        },
        "id": "HG6uO1AKL16a",
        "outputId": "52531e43-e426-4f6a-dadd-36ab7965e234"
      },
      "id": "HG6uO1AKL16a",
      "execution_count": 5,
      "outputs": [
        {
          "output_type": "stream",
          "name": "stdout",
          "text": [
            "   NumRooms RoofType   Price\n",
            "0       NaN      NaN  127500\n",
            "1       2.0      NaN  106000\n",
            "2       4.0    Slate  178100\n",
            "3       NaN      NaN  140000\n"
          ]
        }
      ]
    },
    {
      "cell_type": "markdown",
      "id": "323ada5a",
      "metadata": {
        "origin_pos": 5,
        "id": "323ada5a"
      },
      "source": [
        "## Data Preparation\n",
        "\n",
        "In supervised learning, we train models\n",
        "to predict a designated *target* value,\n",
        "given some set of *input* values. \n",
        "Our first step in processing the dataset\n",
        "is to separate out columns corresponding\n",
        "to input versus target values. \n",
        "We can select columns either by name or\n",
        "via integer-location based indexing (`iloc`).\n"
      ]
    },
    {
      "cell_type": "markdown",
      "source": [
        "You might have noticed that `pandas` replaced\n",
        "all CSV entries with value `NA`\n",
        "with a special `NaN` (*not a number*) value. \n",
        "This can also happen whenever an entry is empty,\n",
        "e.g., \"3,,,270000\".\n",
        "These are called *missing values* \n",
        "and they are the \"bed bugs\" of data science,\n",
        "a persistent menace that you will confront\n",
        "throughout your career. \n",
        "Depending upon the context, \n",
        "missing values might be handled\n",
        "either via *imputation* or *deletion*.\n",
        "Imputation replaces missing values \n",
        "with estimates of their values\n",
        "while deletion simply discards \n",
        "either those rows or those columns\n",
        "that contain missing values. \n",
        "\n",
        "Here are some common imputation heuristics.\n",
        "[**For categorical input fields, \n",
        "we can treat `NaN` as a category.**]\n",
        "Since the `RoofType` column takes values `Slate` and `NaN`,\n",
        "`pandas` can convert this column \n",
        "into two columns `RoofType_Slate` and `RoofType_nan`.\n",
        "A row whose roof type is `Slate` will set values \n",
        "of `RoofType_Slate` and `RoofType_nan` to 1 and 0, respectively.\n",
        "The converse holds for a row with a missing `RoofType` value."
      ],
      "metadata": {
        "id": "LsuqJkVqLfJa"
      },
      "id": "LsuqJkVqLfJa"
    },
    {
      "cell_type": "code",
      "execution_count": null,
      "id": "51da1816",
      "metadata": {
        "execution": {
          "iopub.execute_input": "2022-12-14T04:44:57.645393Z",
          "iopub.status.busy": "2022-12-14T04:44:57.645122Z",
          "iopub.status.idle": "2022-12-14T04:44:57.654329Z",
          "shell.execute_reply": "2022-12-14T04:44:57.653320Z"
        },
        "origin_pos": 6,
        "tab": [
          "pytorch"
        ],
        "id": "51da1816",
        "outputId": "3d29ff8a-b33d-495e-cdfd-1bccbcd0bf73"
      },
      "outputs": [
        {
          "name": "stdout",
          "output_type": "stream",
          "text": [
            "   NumRooms  RoofType_Slate  RoofType_nan\n",
            "0       NaN               0             1\n",
            "1       2.0               0             1\n",
            "2       4.0               1             0\n",
            "3       NaN               0             1\n"
          ]
        }
      ],
      "source": [
        "inputs, targets = data.iloc[:, 0:2], data.iloc[:, 2]\n",
        "inputs = pd.get_dummies(inputs, dummy_na=True)\n",
        "print(inputs)"
      ]
    },
    {
      "cell_type": "markdown",
      "id": "61bf746c",
      "metadata": {
        "origin_pos": 7,
        "id": "61bf746c"
      },
      "source": [
        "For missing numerical values, \n",
        "one common heuristic is to \n",
        "[**replace the `NaN` entries with \n",
        "the mean value of the corresponding column**].\n"
      ]
    },
    {
      "cell_type": "code",
      "execution_count": null,
      "id": "86c7ca70",
      "metadata": {
        "execution": {
          "iopub.execute_input": "2022-12-14T04:44:57.657474Z",
          "iopub.status.busy": "2022-12-14T04:44:57.657196Z",
          "iopub.status.idle": "2022-12-14T04:44:57.666017Z",
          "shell.execute_reply": "2022-12-14T04:44:57.665271Z"
        },
        "origin_pos": 8,
        "tab": [
          "pytorch"
        ],
        "id": "86c7ca70",
        "outputId": "983c4eca-1810-411b-96ea-356a3eb0fad3"
      },
      "outputs": [
        {
          "name": "stdout",
          "output_type": "stream",
          "text": [
            "   NumRooms  RoofType_Slate  RoofType_nan\n",
            "0       3.0               0             1\n",
            "1       2.0               0             1\n",
            "2       4.0               1             0\n",
            "3       3.0               0             1\n"
          ]
        }
      ],
      "source": [
        "inputs = inputs.fillna(inputs.mean())\n",
        "print(inputs)"
      ]
    },
    {
      "cell_type": "markdown",
      "id": "acf26509",
      "metadata": {
        "origin_pos": 9,
        "id": "acf26509"
      },
      "source": [
        "## Conversion to the Tensor Format\n",
        "\n",
        "Now that [**all the entries in `inputs` and `targets` are numerical,\n",
        "we can load them into a tensor**] (recall :numref:`sec_ndarray`).\n"
      ]
    },
    {
      "cell_type": "code",
      "execution_count": null,
      "id": "2d3b3e1e",
      "metadata": {
        "execution": {
          "iopub.execute_input": "2022-12-14T04:44:57.669048Z",
          "iopub.status.busy": "2022-12-14T04:44:57.668773Z",
          "iopub.status.idle": "2022-12-14T04:44:58.787301Z",
          "shell.execute_reply": "2022-12-14T04:44:58.786420Z"
        },
        "origin_pos": 11,
        "tab": [
          "pytorch"
        ],
        "id": "2d3b3e1e",
        "outputId": "6f7ac718-b2e2-4372-f41b-bdeaecc3dfd5"
      },
      "outputs": [
        {
          "data": {
            "text/plain": [
              "(tensor([[3., 0., 1.],\n",
              "         [2., 0., 1.],\n",
              "         [4., 1., 0.],\n",
              "         [3., 0., 1.]], dtype=torch.float64),\n",
              " tensor([127500, 106000, 178100, 140000]))"
            ]
          },
          "execution_count": 5,
          "metadata": {},
          "output_type": "execute_result"
        }
      ],
      "source": [
        "import torch\n",
        "\n",
        "X, y = torch.tensor(inputs.values), torch.tensor(targets.values)\n",
        "X, y"
      ]
    },
    {
      "cell_type": "markdown",
      "id": "f16d2cc9",
      "metadata": {
        "origin_pos": 14,
        "id": "f16d2cc9"
      },
      "source": [
        "## Discussion\n",
        "\n",
        "You now know how to partition data columns, \n",
        "impute missing variables, \n",
        "and load `pandas` data into tensors. \n",
        "In :numref:`sec_kaggle_house`, you will\n",
        "pick up some more data processing skills. \n",
        "While this crash course kept things simple,\n",
        "data processing can get hairy.\n",
        "For example, rather than arriving in a single CSV file,\n",
        "our dataset might be spread across multiple files\n",
        "extracted from a relational database.\n",
        "For instance, in an e-commerce application,\n",
        "customer addresses might live in one table\n",
        "and purchase data in another.\n",
        "Moreover, practitioners face myriad data types\n",
        "beyond categorical and numeric. \n",
        "Other data types include text strings, images,\n",
        "audio data, and point clouds. \n",
        "Oftentimes, advanced tools and efficient algorithms \n",
        "are required to prevent data processing from becoming\n",
        "the biggest bottleneck in the machine learning pipeline. \n",
        "These problems will arise when we get to \n",
        "computer vision and natural language processing. \n",
        "Finally, we must pay attention to data quality.\n",
        "Real-world datasets are often plagued \n",
        "by outliers, faulty measurements from sensors, and recording errors, \n",
        "which must be addressed before \n",
        "feeding the data into any model. \n",
        "Data visualization tools such as [seaborn](https://seaborn.pydata.org/), \n",
        "[Bokeh](https://docs.bokeh.org/), or [matplotlib](https://matplotlib.org/)\n",
        "can help you to manually inspect the data \n",
        "and develop intuitions about \n",
        "what problems you may need to address.\n"
      ]
    },
    {
      "cell_type": "markdown",
      "id": "6d7e9619",
      "metadata": {
        "origin_pos": 16,
        "tab": [
          "pytorch"
        ],
        "id": "6d7e9619"
      },
      "source": [
        "[Discussions](https://discuss.d2l.ai/t/29)\n"
      ]
    },
    {
      "cell_type": "markdown",
      "source": [
        "\n",
        "\n",
        "## Exercises\n",
        "\n",
        "1. Try loading datasets, e.g., Abalone from the [UCI Machine Learning Repository](https://archive.ics.uci.edu/ml/datasets.php) and inspect their properties. What fraction of them has missing values? What fraction of the variables is numerical, categorical, or text?\n",
        "1. Try out indexing and selecting data columns by name rather than by column number. The pandas documentation on [indexing](https://pandas.pydata.org/pandas-docs/stable/user_guide/indexing.html) has further details on how to do this.\n",
        "1. How large a dataset do you think you could load this way? What might be the limitations? Hint: consider the time to read the data, representation, processing, and memory footprint. Try this out on your laptop. What changes if you try it out on a server? \n",
        "1. How would you deal with data that has a very large number of categories? What if the category labels are all unique? Should you include the latter?\n",
        "1. What alternatives to pandas can you think of? How about [loading NumPy tensors from a file](https://numpy.org/doc/stable/reference/generated/numpy.load.html)? Check out [Pillow](https://python-pillow.org/), the Python Imaging Library.\n"
      ],
      "metadata": {
        "id": "tW-r-FTKLkqA"
      },
      "id": "tW-r-FTKLkqA"
    },
    {
      "cell_type": "code",
      "source": [],
      "metadata": {
        "id": "A9JaT8x6LlQr"
      },
      "id": "A9JaT8x6LlQr",
      "execution_count": null,
      "outputs": []
    }
  ],
  "metadata": {
    "kernelspec": {
      "display_name": "Python 3",
      "name": "python3"
    },
    "language_info": {
      "name": "python"
    },
    "colab": {
      "provenance": [],
      "toc_visible": true,
      "include_colab_link": true
    }
  },
  "nbformat": 4,
  "nbformat_minor": 5
}